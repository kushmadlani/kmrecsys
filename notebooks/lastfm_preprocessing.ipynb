{
 "cells": [
  {
   "cell_type": "code",
   "execution_count": 1,
   "metadata": {},
   "outputs": [],
   "source": [
    "# Imports\n",
    "from __future__ import absolute_import\n",
    "from __future__ import division\n",
    "from __future__ import print_function\n",
    "\n",
    "import sys\n",
    "from syspath import current_path\n",
    "sys.path.append('../../')\n",
    "\n",
    "import numpy as np\n",
    "import pandas as pd \n",
    "import os\n",
    "import pickle\n",
    "import datetime\n",
    "import time\n",
    "import scipy.sparse as sp\n",
    "import matplotlib.pyplot as plt\n",
    "%matplotlib inline"
   ]
  },
  {
   "cell_type": "code",
   "execution_count": 2,
   "metadata": {},
   "outputs": [],
   "source": [
    "def new_test(R_train, R_test):\n",
    "    ind = (R_train==0).nonzero()\n",
    "    mask_array = sp.csr_matrix(R_test.shape)\n",
    "    mask_array[ind] = True\n",
    "    R_test_new = R_test.multiply(mask_array)\n",
    "    return R_test_new"
   ]
  },
  {
   "cell_type": "code",
   "execution_count": 4,
   "metadata": {},
   "outputs": [],
   "source": [
    "# raw Last.fm data available at http://ocelma.net/MusicRecommendationDataset/\n",
    "# PATH = '../../data/lastfm/raw/userid-timestamp-artid-artname-traid-traname.tsv'\n",
    "# cols = ['userId', 'timestamp', 'artistId', 'artist-name','songId', 'song-name']                   \n",
    "\n",
    "df = pd.read_csv(PATH, sep=\"\\t\", names=cols, error_bad_lines=False)"
   ]
  },
  {
   "cell_type": "code",
   "execution_count": 5,
   "metadata": {},
   "outputs": [
    {
     "data": {
      "text/plain": [
       "userId              992\n",
       "timestamp      17454739\n",
       "artistId         107296\n",
       "artist-name      173923\n",
       "songId           960403\n",
       "song-name       1083481\n",
       "dtype: int64"
      ]
     },
     "execution_count": 5,
     "metadata": {},
     "output_type": "execute_result"
    }
   ],
   "source": [
    "df.apply(lambda x: len(x.unique()))"
   ]
  },
  {
   "cell_type": "code",
   "execution_count": 5,
   "metadata": {},
   "outputs": [
    {
     "data": {
      "text/html": [
       "<div>\n",
       "<style scoped>\n",
       "    .dataframe tbody tr th:only-of-type {\n",
       "        vertical-align: middle;\n",
       "    }\n",
       "\n",
       "    .dataframe tbody tr th {\n",
       "        vertical-align: top;\n",
       "    }\n",
       "\n",
       "    .dataframe thead th {\n",
       "        text-align: right;\n",
       "    }\n",
       "</style>\n",
       "<table border=\"1\" class=\"dataframe\">\n",
       "  <thead>\n",
       "    <tr style=\"text-align: right;\">\n",
       "      <th></th>\n",
       "      <th>userId</th>\n",
       "      <th>timestamp</th>\n",
       "      <th>artistId</th>\n",
       "      <th>artist-name</th>\n",
       "      <th>songId</th>\n",
       "      <th>song-name</th>\n",
       "    </tr>\n",
       "  </thead>\n",
       "  <tbody>\n",
       "    <tr>\n",
       "      <th>10</th>\n",
       "      <td>user_000001</td>\n",
       "      <td>2009-05-04T13:06:09Z</td>\n",
       "      <td>a7f7df4a-77d8-4f12-8acd-5c60c93f4de8</td>\n",
       "      <td>坂本龍一</td>\n",
       "      <td>f7c1f8f8-b935-45ed-8fc8-7def69d92a10</td>\n",
       "      <td>The Last Emperor (Theme)</td>\n",
       "    </tr>\n",
       "    <tr>\n",
       "      <th>12</th>\n",
       "      <td>user_000001</td>\n",
       "      <td>2009-05-04T12:55:34Z</td>\n",
       "      <td>a7f7df4a-77d8-4f12-8acd-5c60c93f4de8</td>\n",
       "      <td>坂本龍一</td>\n",
       "      <td>475d4e50-cebb-4cd0-8cd4-c3df97987962</td>\n",
       "      <td>Tibetan Dance (Version)</td>\n",
       "    </tr>\n",
       "    <tr>\n",
       "      <th>14</th>\n",
       "      <td>user_000001</td>\n",
       "      <td>2009-05-03T15:48:25Z</td>\n",
       "      <td>ba2f4f3b-0293-4bc8-bb94-2f73b5207343</td>\n",
       "      <td>Underworld</td>\n",
       "      <td>dc394163-2b78-4b56-94e4-658597a29ef8</td>\n",
       "      <td>Boy, Boy, Boy (Switch Remix)</td>\n",
       "    </tr>\n",
       "    <tr>\n",
       "      <th>15</th>\n",
       "      <td>user_000001</td>\n",
       "      <td>2009-05-03T15:37:56Z</td>\n",
       "      <td>ba2f4f3b-0293-4bc8-bb94-2f73b5207343</td>\n",
       "      <td>Underworld</td>\n",
       "      <td>340d9a0b-9a43-4098-b116-9f79811bd508</td>\n",
       "      <td>Crocodile (Innervisions Orchestra Mix)</td>\n",
       "    </tr>\n",
       "    <tr>\n",
       "      <th>16</th>\n",
       "      <td>user_000001</td>\n",
       "      <td>2009-05-03T15:14:53Z</td>\n",
       "      <td>a16e47f5-aa54-47fe-87e4-bb8af91a9fdd</td>\n",
       "      <td>Ennio Morricone</td>\n",
       "      <td>0b04407b-f517-4e00-9e6a-494795efc73e</td>\n",
       "      <td>Ninna Nanna In Blu (Raw Deal Remix)</td>\n",
       "    </tr>\n",
       "  </tbody>\n",
       "</table>\n",
       "</div>"
      ],
      "text/plain": [
       "         userId             timestamp                              artistId  \\\n",
       "10  user_000001  2009-05-04T13:06:09Z  a7f7df4a-77d8-4f12-8acd-5c60c93f4de8   \n",
       "12  user_000001  2009-05-04T12:55:34Z  a7f7df4a-77d8-4f12-8acd-5c60c93f4de8   \n",
       "14  user_000001  2009-05-03T15:48:25Z  ba2f4f3b-0293-4bc8-bb94-2f73b5207343   \n",
       "15  user_000001  2009-05-03T15:37:56Z  ba2f4f3b-0293-4bc8-bb94-2f73b5207343   \n",
       "16  user_000001  2009-05-03T15:14:53Z  a16e47f5-aa54-47fe-87e4-bb8af91a9fdd   \n",
       "\n",
       "        artist-name                                songId  \\\n",
       "10             坂本龍一  f7c1f8f8-b935-45ed-8fc8-7def69d92a10   \n",
       "12             坂本龍一  475d4e50-cebb-4cd0-8cd4-c3df97987962   \n",
       "14       Underworld  dc394163-2b78-4b56-94e4-658597a29ef8   \n",
       "15       Underworld  340d9a0b-9a43-4098-b116-9f79811bd508   \n",
       "16  Ennio Morricone  0b04407b-f517-4e00-9e6a-494795efc73e   \n",
       "\n",
       "                                 song-name  \n",
       "10                The Last Emperor (Theme)  \n",
       "12                 Tibetan Dance (Version)  \n",
       "14            Boy, Boy, Boy (Switch Remix)  \n",
       "15  Crocodile (Innervisions Orchestra Mix)  \n",
       "16     Ninna Nanna In Blu (Raw Deal Remix)  "
      ]
     },
     "execution_count": 5,
     "metadata": {},
     "output_type": "execute_result"
    }
   ],
   "source": [
    "df = df[df.songId.notnull()]\n",
    "df = df[df.artistId.notnull()]\n",
    "df.head()"
   ]
  },
  {
   "cell_type": "code",
   "execution_count": 6,
   "metadata": {},
   "outputs": [
    {
     "name": "stdout",
     "output_type": "stream",
     "text": [
      "Removed 57130 artist ids to 26775\n"
     ]
    }
   ],
   "source": [
    "n = 3\n",
    "\n",
    "# df = bet_df.groupby('league_id')['placed_date'].count()\n",
    "artists = df.groupby('artistId')['userId'].nunique()\n",
    "prev_len = len(artists)\n",
    "artists = artists[artists>n].index.tolist()\n",
    "df = df.query('artistId in @artists')\n",
    "print('Removed {} artist ids to {}'.format(prev_len-len(artists),len(artists)))"
   ]
  },
  {
   "cell_type": "code",
   "execution_count": 7,
   "metadata": {},
   "outputs": [
    {
     "name": "stdout",
     "output_type": "stream",
     "text": [
      "Removed 3 user ids to 989\n"
     ]
    }
   ],
   "source": [
    "n = 5\n",
    "\n",
    "# df = bet_df.groupby('league_id')['placed_date'].count()\n",
    "users = df.userId.value_counts()\n",
    "prev_len = len(users)\n",
    "users = users[users>n].index.tolist()\n",
    "df = df.query('userId in @users')\n",
    "print('Removed {} user ids to {}'.format(prev_len-len(users),len(users)))"
   ]
  },
  {
   "cell_type": "code",
   "execution_count": 9,
   "metadata": {},
   "outputs": [
    {
     "data": {
      "text/plain": [
       "userId              989\n",
       "timestamp      14986031\n",
       "artistId          26775\n",
       "artist-name       26387\n",
       "songId           766224\n",
       "song-name        562952\n",
       "dtype: int64"
      ]
     },
     "execution_count": 9,
     "metadata": {},
     "output_type": "execute_result"
    }
   ],
   "source": [
    "df.apply(lambda x: len(x.unique()))"
   ]
  },
  {
   "cell_type": "code",
   "execution_count": 10,
   "metadata": {},
   "outputs": [],
   "source": [
    "# ndf = df.groupby('songId')['userId'].nunique()\n",
    "# ndf"
   ]
  },
  {
   "cell_type": "code",
   "execution_count": 8,
   "metadata": {},
   "outputs": [],
   "source": [
    "df['timestamp'] = pd.to_datetime(df.timestamp)\n",
    "df[\"date\"] = [d.date() for d in df[\"timestamp\"]]"
   ]
  },
  {
   "cell_type": "code",
   "execution_count": 9,
   "metadata": {},
   "outputs": [],
   "source": [
    "users = list(df.userId.unique())\n",
    "user_dict = dict(zip(users,[i for i in range(len(users))]))\n",
    "df['userId'] = df['userId'].apply(lambda x: user_dict[x])\n",
    "\n",
    "items = list(df.artistId.unique())\n",
    "item_dict = dict(zip(items,[i for i in range(len(items))]))\n",
    "df['artistId'] = df['artistId'].apply(lambda x: item_dict[x])"
   ]
  },
  {
   "cell_type": "code",
   "execution_count": 10,
   "metadata": {},
   "outputs": [
    {
     "data": {
      "text/plain": [
       "1589"
      ]
     },
     "execution_count": 10,
     "metadata": {},
     "output_type": "execute_result"
    }
   ],
   "source": [
    "dates = sorted(list(df['date'].unique()))\n",
    "len(dates)"
   ]
  },
  {
   "cell_type": "code",
   "execution_count": 11,
   "metadata": {},
   "outputs": [
    {
     "name": "stdout",
     "output_type": "stream",
     "text": [
      "977 285 327 1589\n"
     ]
    }
   ],
   "source": [
    "train = 24\n",
    "val = 7\n",
    "test = 8\n",
    "total = train+val+test\n",
    "n_days = len(dates)\n",
    "train_days = int(n_days*train/total)\n",
    "val_days = int(n_days*val/total)\n",
    "test_days = n_days - (train_days+val_days)\n",
    "print(train_days, val_days, test_days, n_days)"
   ]
  },
  {
   "cell_type": "code",
   "execution_count": 12,
   "metadata": {},
   "outputs": [],
   "source": [
    "main_train_df = df[df['date'] <= dates[-test_days]]\n",
    "test_df = df[df['date'] > dates[-test_days]]"
   ]
  },
  {
   "cell_type": "code",
   "execution_count": 16,
   "metadata": {},
   "outputs": [],
   "source": [
    "main_train_df.to_pickle('../../data/lastfm/processed/bet_df.pkl')"
   ]
  },
  {
   "cell_type": "code",
   "execution_count": 17,
   "metadata": {},
   "outputs": [
    {
     "name": "stdout",
     "output_type": "stream",
     "text": [
      "817 valid users from 934 test and 872 train\n"
     ]
    }
   ],
   "source": [
    "train_users = main_train_df['userId'].unique()\n",
    "test_users = test_df['userId'].unique()\n",
    "\n",
    "valid_users = list(set(train_users)&set(test_users))\n",
    "print('{} valid users from {} test and {} train'.format(len(valid_users),len(test_users),len(train_users)))"
   ]
  },
  {
   "cell_type": "code",
   "execution_count": 18,
   "metadata": {},
   "outputs": [],
   "source": [
    "# filter for valid users\n",
    "full_train_df = main_train_df[main_train_df['userId'].isin(valid_users)]\n",
    "test_df = test_df[test_df['userId'].isin(valid_users)]"
   ]
  },
  {
   "cell_type": "code",
   "execution_count": 19,
   "metadata": {},
   "outputs": [
    {
     "name": "stdout",
     "output_type": "stream",
     "text": [
      "26775 valid artists from 25274 test and 26413 train\n"
     ]
    }
   ],
   "source": [
    "train_leagues = full_train_df['artistId'].unique()\n",
    "test_leagues = test_df['artistId'].unique()\n",
    "\n",
    "valid_leagues = list(set(train_leagues)|set(test_leagues))\n",
    "print('{} valid artists from {} test and {} train'.format(len(valid_leagues),len(test_leagues),len(train_leagues)))"
   ]
  },
  {
   "cell_type": "code",
   "execution_count": 20,
   "metadata": {},
   "outputs": [],
   "source": [
    "train_missing = np.setdiff1d(valid_leagues,train_leagues)\n",
    "test_missing = np.setdiff1d(valid_leagues,test_leagues)\n",
    "\n",
    "with open('../../data/lastfm/processed/train_missing.txt', \"wb\") as fp:\n",
    "    pickle.dump(train_missing, fp)\n",
    "with open('../../data/lastfm/processed/test_missing.txt', \"wb\") as fp:\n",
    "    pickle.dump(test_missing, fp)"
   ]
  },
  {
   "cell_type": "code",
   "execution_count": 25,
   "metadata": {},
   "outputs": [
    {
     "data": {
      "text/html": [
       "<div>\n",
       "<style scoped>\n",
       "    .dataframe tbody tr th:only-of-type {\n",
       "        vertical-align: middle;\n",
       "    }\n",
       "\n",
       "    .dataframe tbody tr th {\n",
       "        vertical-align: top;\n",
       "    }\n",
       "\n",
       "    .dataframe thead th {\n",
       "        text-align: right;\n",
       "    }\n",
       "</style>\n",
       "<table border=\"1\" class=\"dataframe\">\n",
       "  <thead>\n",
       "    <tr style=\"text-align: right;\">\n",
       "      <th>artistId</th>\n",
       "      <th>0</th>\n",
       "      <th>1</th>\n",
       "      <th>2</th>\n",
       "      <th>3</th>\n",
       "      <th>4</th>\n",
       "      <th>5</th>\n",
       "      <th>6</th>\n",
       "      <th>7</th>\n",
       "      <th>8</th>\n",
       "      <th>9</th>\n",
       "      <th>...</th>\n",
       "      <th>26765</th>\n",
       "      <th>26766</th>\n",
       "      <th>26767</th>\n",
       "      <th>26768</th>\n",
       "      <th>26769</th>\n",
       "      <th>26770</th>\n",
       "      <th>26771</th>\n",
       "      <th>26772</th>\n",
       "      <th>26773</th>\n",
       "      <th>26774</th>\n",
       "    </tr>\n",
       "    <tr>\n",
       "      <th>userId</th>\n",
       "      <th></th>\n",
       "      <th></th>\n",
       "      <th></th>\n",
       "      <th></th>\n",
       "      <th></th>\n",
       "      <th></th>\n",
       "      <th></th>\n",
       "      <th></th>\n",
       "      <th></th>\n",
       "      <th></th>\n",
       "      <th></th>\n",
       "      <th></th>\n",
       "      <th></th>\n",
       "      <th></th>\n",
       "      <th></th>\n",
       "      <th></th>\n",
       "      <th></th>\n",
       "      <th></th>\n",
       "      <th></th>\n",
       "      <th></th>\n",
       "      <th></th>\n",
       "    </tr>\n",
       "  </thead>\n",
       "  <tbody>\n",
       "    <tr>\n",
       "      <th>0</th>\n",
       "      <td>82</td>\n",
       "      <td>700</td>\n",
       "      <td>0</td>\n",
       "      <td>4</td>\n",
       "      <td>0</td>\n",
       "      <td>0</td>\n",
       "      <td>0</td>\n",
       "      <td>0</td>\n",
       "      <td>0</td>\n",
       "      <td>78</td>\n",
       "      <td>...</td>\n",
       "      <td>0</td>\n",
       "      <td>0</td>\n",
       "      <td>0</td>\n",
       "      <td>0</td>\n",
       "      <td>0</td>\n",
       "      <td>0</td>\n",
       "      <td>0</td>\n",
       "      <td>0</td>\n",
       "      <td>0</td>\n",
       "      <td>0</td>\n",
       "    </tr>\n",
       "    <tr>\n",
       "      <th>1</th>\n",
       "      <td>0</td>\n",
       "      <td>0</td>\n",
       "      <td>0</td>\n",
       "      <td>0</td>\n",
       "      <td>0</td>\n",
       "      <td>0</td>\n",
       "      <td>0</td>\n",
       "      <td>0</td>\n",
       "      <td>0</td>\n",
       "      <td>0</td>\n",
       "      <td>...</td>\n",
       "      <td>0</td>\n",
       "      <td>0</td>\n",
       "      <td>0</td>\n",
       "      <td>0</td>\n",
       "      <td>0</td>\n",
       "      <td>0</td>\n",
       "      <td>0</td>\n",
       "      <td>0</td>\n",
       "      <td>0</td>\n",
       "      <td>0</td>\n",
       "    </tr>\n",
       "    <tr>\n",
       "      <th>2</th>\n",
       "      <td>0</td>\n",
       "      <td>1</td>\n",
       "      <td>1</td>\n",
       "      <td>0</td>\n",
       "      <td>0</td>\n",
       "      <td>0</td>\n",
       "      <td>0</td>\n",
       "      <td>0</td>\n",
       "      <td>0</td>\n",
       "      <td>0</td>\n",
       "      <td>...</td>\n",
       "      <td>0</td>\n",
       "      <td>0</td>\n",
       "      <td>0</td>\n",
       "      <td>0</td>\n",
       "      <td>0</td>\n",
       "      <td>0</td>\n",
       "      <td>0</td>\n",
       "      <td>0</td>\n",
       "      <td>0</td>\n",
       "      <td>0</td>\n",
       "    </tr>\n",
       "    <tr>\n",
       "      <th>3</th>\n",
       "      <td>0</td>\n",
       "      <td>0</td>\n",
       "      <td>0</td>\n",
       "      <td>0</td>\n",
       "      <td>0</td>\n",
       "      <td>0</td>\n",
       "      <td>0</td>\n",
       "      <td>0</td>\n",
       "      <td>0</td>\n",
       "      <td>0</td>\n",
       "      <td>...</td>\n",
       "      <td>0</td>\n",
       "      <td>0</td>\n",
       "      <td>0</td>\n",
       "      <td>0</td>\n",
       "      <td>0</td>\n",
       "      <td>0</td>\n",
       "      <td>0</td>\n",
       "      <td>0</td>\n",
       "      <td>0</td>\n",
       "      <td>0</td>\n",
       "    </tr>\n",
       "    <tr>\n",
       "      <th>4</th>\n",
       "      <td>0</td>\n",
       "      <td>3</td>\n",
       "      <td>1</td>\n",
       "      <td>0</td>\n",
       "      <td>2</td>\n",
       "      <td>0</td>\n",
       "      <td>0</td>\n",
       "      <td>0</td>\n",
       "      <td>0</td>\n",
       "      <td>0</td>\n",
       "      <td>...</td>\n",
       "      <td>0</td>\n",
       "      <td>0</td>\n",
       "      <td>0</td>\n",
       "      <td>0</td>\n",
       "      <td>0</td>\n",
       "      <td>0</td>\n",
       "      <td>0</td>\n",
       "      <td>0</td>\n",
       "      <td>0</td>\n",
       "      <td>0</td>\n",
       "    </tr>\n",
       "    <tr>\n",
       "      <th>...</th>\n",
       "      <td>...</td>\n",
       "      <td>...</td>\n",
       "      <td>...</td>\n",
       "      <td>...</td>\n",
       "      <td>...</td>\n",
       "      <td>...</td>\n",
       "      <td>...</td>\n",
       "      <td>...</td>\n",
       "      <td>...</td>\n",
       "      <td>...</td>\n",
       "      <td>...</td>\n",
       "      <td>...</td>\n",
       "      <td>...</td>\n",
       "      <td>...</td>\n",
       "      <td>...</td>\n",
       "      <td>...</td>\n",
       "      <td>...</td>\n",
       "      <td>...</td>\n",
       "      <td>...</td>\n",
       "      <td>...</td>\n",
       "      <td>...</td>\n",
       "    </tr>\n",
       "    <tr>\n",
       "      <th>984</th>\n",
       "      <td>0</td>\n",
       "      <td>34</td>\n",
       "      <td>0</td>\n",
       "      <td>0</td>\n",
       "      <td>0</td>\n",
       "      <td>0</td>\n",
       "      <td>0</td>\n",
       "      <td>0</td>\n",
       "      <td>0</td>\n",
       "      <td>0</td>\n",
       "      <td>...</td>\n",
       "      <td>0</td>\n",
       "      <td>0</td>\n",
       "      <td>0</td>\n",
       "      <td>0</td>\n",
       "      <td>0</td>\n",
       "      <td>0</td>\n",
       "      <td>0</td>\n",
       "      <td>0</td>\n",
       "      <td>0</td>\n",
       "      <td>0</td>\n",
       "    </tr>\n",
       "    <tr>\n",
       "      <th>985</th>\n",
       "      <td>0</td>\n",
       "      <td>0</td>\n",
       "      <td>0</td>\n",
       "      <td>0</td>\n",
       "      <td>0</td>\n",
       "      <td>0</td>\n",
       "      <td>0</td>\n",
       "      <td>0</td>\n",
       "      <td>0</td>\n",
       "      <td>0</td>\n",
       "      <td>...</td>\n",
       "      <td>0</td>\n",
       "      <td>0</td>\n",
       "      <td>0</td>\n",
       "      <td>0</td>\n",
       "      <td>0</td>\n",
       "      <td>0</td>\n",
       "      <td>0</td>\n",
       "      <td>0</td>\n",
       "      <td>0</td>\n",
       "      <td>0</td>\n",
       "    </tr>\n",
       "    <tr>\n",
       "      <th>986</th>\n",
       "      <td>0</td>\n",
       "      <td>0</td>\n",
       "      <td>0</td>\n",
       "      <td>0</td>\n",
       "      <td>0</td>\n",
       "      <td>0</td>\n",
       "      <td>0</td>\n",
       "      <td>0</td>\n",
       "      <td>0</td>\n",
       "      <td>0</td>\n",
       "      <td>...</td>\n",
       "      <td>0</td>\n",
       "      <td>0</td>\n",
       "      <td>0</td>\n",
       "      <td>0</td>\n",
       "      <td>0</td>\n",
       "      <td>0</td>\n",
       "      <td>0</td>\n",
       "      <td>0</td>\n",
       "      <td>0</td>\n",
       "      <td>0</td>\n",
       "    </tr>\n",
       "    <tr>\n",
       "      <th>987</th>\n",
       "      <td>0</td>\n",
       "      <td>0</td>\n",
       "      <td>0</td>\n",
       "      <td>0</td>\n",
       "      <td>0</td>\n",
       "      <td>0</td>\n",
       "      <td>0</td>\n",
       "      <td>0</td>\n",
       "      <td>0</td>\n",
       "      <td>0</td>\n",
       "      <td>...</td>\n",
       "      <td>0</td>\n",
       "      <td>0</td>\n",
       "      <td>0</td>\n",
       "      <td>0</td>\n",
       "      <td>0</td>\n",
       "      <td>0</td>\n",
       "      <td>0</td>\n",
       "      <td>0</td>\n",
       "      <td>0</td>\n",
       "      <td>0</td>\n",
       "    </tr>\n",
       "    <tr>\n",
       "      <th>988</th>\n",
       "      <td>0</td>\n",
       "      <td>0</td>\n",
       "      <td>0</td>\n",
       "      <td>0</td>\n",
       "      <td>0</td>\n",
       "      <td>0</td>\n",
       "      <td>0</td>\n",
       "      <td>0</td>\n",
       "      <td>0</td>\n",
       "      <td>0</td>\n",
       "      <td>...</td>\n",
       "      <td>0</td>\n",
       "      <td>0</td>\n",
       "      <td>0</td>\n",
       "      <td>0</td>\n",
       "      <td>0</td>\n",
       "      <td>0</td>\n",
       "      <td>0</td>\n",
       "      <td>0</td>\n",
       "      <td>0</td>\n",
       "      <td>0</td>\n",
       "    </tr>\n",
       "  </tbody>\n",
       "</table>\n",
       "<p>817 rows × 26413 columns</p>\n",
       "</div>"
      ],
      "text/plain": [
       "artistId  0      1      2      3      4      5      6      7      8      \\\n",
       "userId                                                                    \n",
       "0            82    700      0      4      0      0      0      0      0   \n",
       "1             0      0      0      0      0      0      0      0      0   \n",
       "2             0      1      1      0      0      0      0      0      0   \n",
       "3             0      0      0      0      0      0      0      0      0   \n",
       "4             0      3      1      0      2      0      0      0      0   \n",
       "...         ...    ...    ...    ...    ...    ...    ...    ...    ...   \n",
       "984           0     34      0      0      0      0      0      0      0   \n",
       "985           0      0      0      0      0      0      0      0      0   \n",
       "986           0      0      0      0      0      0      0      0      0   \n",
       "987           0      0      0      0      0      0      0      0      0   \n",
       "988           0      0      0      0      0      0      0      0      0   \n",
       "\n",
       "artistId  9      ...  26765  26766  26767  26768  26769  26770  26771  26772  \\\n",
       "userId           ...                                                           \n",
       "0            78  ...      0      0      0      0      0      0      0      0   \n",
       "1             0  ...      0      0      0      0      0      0      0      0   \n",
       "2             0  ...      0      0      0      0      0      0      0      0   \n",
       "3             0  ...      0      0      0      0      0      0      0      0   \n",
       "4             0  ...      0      0      0      0      0      0      0      0   \n",
       "...         ...  ...    ...    ...    ...    ...    ...    ...    ...    ...   \n",
       "984           0  ...      0      0      0      0      0      0      0      0   \n",
       "985           0  ...      0      0      0      0      0      0      0      0   \n",
       "986           0  ...      0      0      0      0      0      0      0      0   \n",
       "987           0  ...      0      0      0      0      0      0      0      0   \n",
       "988           0  ...      0      0      0      0      0      0      0      0   \n",
       "\n",
       "artistId  26773  26774  \n",
       "userId                  \n",
       "0             0      0  \n",
       "1             0      0  \n",
       "2             0      0  \n",
       "3             0      0  \n",
       "4             0      0  \n",
       "...         ...    ...  \n",
       "984           0      0  \n",
       "985           0      0  \n",
       "986           0      0  \n",
       "987           0      0  \n",
       "988           0      0  \n",
       "\n",
       "[817 rows x 26413 columns]"
      ]
     },
     "execution_count": 25,
     "metadata": {},
     "output_type": "execute_result"
    }
   ],
   "source": [
    "# get matrics\n",
    "full_train_df = full_train_df.groupby(['userId', 'artistId']).size().unstack(fill_value=0)\n",
    "test_df = test_df.groupby(['userId', 'artistId']).size().unstack(fill_value=0)\n",
    "full_train_df"
   ]
  },
  {
   "cell_type": "code",
   "execution_count": 26,
   "metadata": {},
   "outputs": [
    {
     "name": "stdout",
     "output_type": "stream",
     "text": [
      "(817, 26413) (817, 25274)\n"
     ]
    }
   ],
   "source": [
    "print(full_train_df.shape, test_df.shape)\n",
    "\n",
    "# add missing columns to each\n",
    "for league in valid_leagues:\n",
    "    if league not in full_train_df:\n",
    "        full_train_df[league] = 0\n",
    "    if league not in test_df:\n",
    "        test_df[league] = 0"
   ]
  },
  {
   "cell_type": "code",
   "execution_count": 27,
   "metadata": {},
   "outputs": [
    {
     "name": "stdout",
     "output_type": "stream",
     "text": [
      "(817, 26775) (817, 26775)\n"
     ]
    }
   ],
   "source": [
    "# line up columns\n",
    "cols = list(full_train_df.columns.values)\n",
    "\n",
    "full_train_df = full_train_df.reindex(columns=cols)\n",
    "test_df = test_df.reindex(columns=cols)\n",
    "\n",
    "print(full_train_df.shape, test_df.shape)"
   ]
  },
  {
   "cell_type": "code",
   "execution_count": 28,
   "metadata": {},
   "outputs": [
    {
     "name": "stderr",
     "output_type": "stream",
     "text": [
      "/opt/anaconda3/lib/python3.7/site-packages/ipykernel_launcher.py:6: SparseEfficiencyWarning: Comparing a sparse matrix with 0 using == is inefficient, try using != instead.\n",
      "  \n",
      "/opt/anaconda3/lib/python3.7/site-packages/scipy/sparse/_index.py:126: SparseEfficiencyWarning: Changing the sparsity structure of a csr_matrix is expensive. lil_matrix is more efficient.\n",
      "  self._set_arrayXarray(i, j, x)\n"
     ]
    }
   ],
   "source": [
    "# turn df into sparse matrices\n",
    "full_train_mat = sp.csr_matrix(full_train_df.values)\n",
    "test_mat = sp.csr_matrix(test_df.values)\n",
    "\n",
    "# get masked test set\n",
    "new_test_mat = new_test(full_train_mat, test_mat)"
   ]
  },
  {
   "cell_type": "code",
   "execution_count": 29,
   "metadata": {},
   "outputs": [
    {
     "data": {
      "text/plain": [
       "<817x26775 sparse matrix of type '<class 'numpy.float64'>'\n",
       "\twith 115948 stored elements in Compressed Sparse Row format>"
      ]
     },
     "execution_count": 29,
     "metadata": {},
     "output_type": "execute_result"
    }
   ],
   "source": [
    "new_test_mat"
   ]
  },
  {
   "cell_type": "code",
   "execution_count": 30,
   "metadata": {},
   "outputs": [
    {
     "data": {
      "text/plain": [
       "<817x26775 sparse matrix of type '<class 'numpy.longlong'>'\n",
       "\twith 267056 stored elements in Compressed Sparse Row format>"
      ]
     },
     "execution_count": 30,
     "metadata": {},
     "output_type": "execute_result"
    }
   ],
   "source": [
    "test_mat"
   ]
  },
  {
   "cell_type": "code",
   "execution_count": 31,
   "metadata": {},
   "outputs": [
    {
     "data": {
      "text/plain": [
       "<817x26775 sparse matrix of type '<class 'numpy.longlong'>'\n",
       "\twith 473713 stored elements in Compressed Sparse Row format>"
      ]
     },
     "execution_count": 31,
     "metadata": {},
     "output_type": "execute_result"
    }
   ],
   "source": [
    "full_train_mat"
   ]
  },
  {
   "cell_type": "code",
   "execution_count": 32,
   "metadata": {},
   "outputs": [],
   "source": [
    "users_mapped = list(full_train_df.columns.values)\n",
    "items_mapped = list(full_train_df.index.values)\n",
    "\n",
    "with open('../../data/lastfm/processed/test_users.txt', \"wb\") as fp:\n",
    "    pickle.dump(users, fp)\n",
    "with open('../../data/lastfm/processed/test_items.txt', \"wb\") as fp:\n",
    "    pickle.dump(cols, fp)\n",
    "with open('../../data/lastfm/processed/test_users_map.txt', \"wb\") as fp:\n",
    "    pickle.dump(users_mapped, fp)\n",
    "with open('../../data/lastfm/processed/test_items_map.txt', \"wb\") as fp:\n",
    "    pickle.dump(items_mapped, fp)"
   ]
  },
  {
   "cell_type": "code",
   "execution_count": 33,
   "metadata": {},
   "outputs": [],
   "source": [
    "sp.save_npz('../../data/lastfm/processed/full_train_mat.npz', full_train_mat)\n",
    "sp.save_npz('../../data/lastfm/processed/test_unmasked.npz', test_mat)\n",
    "sp.save_npz('../../data/lastfm/processed/test_masked.npz', new_test_mat)"
   ]
  },
  {
   "cell_type": "code",
   "execution_count": 34,
   "metadata": {},
   "outputs": [
    {
     "name": "stdout",
     "output_type": "stream",
     "text": [
      "1263\n"
     ]
    }
   ],
   "source": [
    "dates = sorted(list(main_train_df['date'].unique()))\n",
    "print(len(dates))"
   ]
  },
  {
   "cell_type": "markdown",
   "metadata": {},
   "source": [
    "## TRAIN/VAL SPLIT"
   ]
  },
  {
   "cell_type": "code",
   "execution_count": 47,
   "metadata": {},
   "outputs": [],
   "source": [
    "train_df = main_train_df[main_train_df['date'] <= dates[-val_days]]\n",
    "val_df = main_train_df[main_train_df['date'] > dates[-val_days]]"
   ]
  },
  {
   "cell_type": "code",
   "execution_count": 48,
   "metadata": {},
   "outputs": [
    {
     "name": "stdout",
     "output_type": "stream",
     "text": [
      "643 valid users from 643 test and 758 train\n"
     ]
    }
   ],
   "source": [
    "train_users = train_df['userId'].unique()\n",
    "val_users = val_df['userId'].unique()\n",
    "\n",
    "valid_users = list(set(train_users)&set(val_users))\n",
    "print('{} valid users from {} test and {} train'.format(len(valid_users),len(valid_users),len(train_users)))"
   ]
  },
  {
   "cell_type": "code",
   "execution_count": 49,
   "metadata": {},
   "outputs": [],
   "source": [
    "# filter for valid users\n",
    "train_df = train_df[train_df['userId'].isin(valid_users)]\n",
    "val_df = val_df[val_df['userId'].isin(valid_users)]"
   ]
  },
  {
   "cell_type": "code",
   "execution_count": 50,
   "metadata": {},
   "outputs": [
    {
     "name": "stdout",
     "output_type": "stream",
     "text": [
      "26307 valid leagues from 24145 test and 24828 train\n"
     ]
    }
   ],
   "source": [
    "train_leagues = train_df['artistId'].unique()\n",
    "val_leagues = val_df['artistId'].unique()\n",
    "\n",
    "valid_leagues = list(set(train_leagues)|set(val_leagues))\n",
    "print('{} valid leagues from {} test and {} train'.format(len(valid_leagues),len(val_leagues),len(train_leagues)))"
   ]
  },
  {
   "cell_type": "code",
   "execution_count": 51,
   "metadata": {},
   "outputs": [
    {
     "name": "stdout",
     "output_type": "stream",
     "text": [
      "1479 2162\n"
     ]
    }
   ],
   "source": [
    "train_val_missing = np.setdiff1d(valid_leagues,train_leagues)\n",
    "val_missing = np.setdiff1d(valid_leagues,val_leagues)\n",
    "\n",
    "print(len(train_val_missing),len(val_missing))\n",
    "with open('../../data/lastfm/processed/train_val_missing.txt', \"wb\") as fp:\n",
    "    pickle.dump(train_val_missing, fp)\n",
    "with open('../../data/lastfm/processed/test_missing.txt', \"wb\") as fp:\n",
    "    pickle.dump(val_missing, fp)"
   ]
  },
  {
   "cell_type": "code",
   "execution_count": 52,
   "metadata": {},
   "outputs": [
    {
     "data": {
      "text/plain": [
       "1479"
      ]
     },
     "execution_count": 52,
     "metadata": {},
     "output_type": "execute_result"
    }
   ],
   "source": [
    "train_val_missing = np.setdiff1d(valid_leagues,train_leagues)\n",
    "len(train_val_missing)"
   ]
  },
  {
   "cell_type": "code",
   "execution_count": 53,
   "metadata": {},
   "outputs": [
    {
     "name": "stdout",
     "output_type": "stream",
     "text": [
      "(643, 24828) (643, 24145)\n",
      "(643, 26307) (643, 26307)\n"
     ]
    },
    {
     "name": "stderr",
     "output_type": "stream",
     "text": [
      "/opt/anaconda3/lib/python3.7/site-packages/ipykernel_launcher.py:26: SparseEfficiencyWarning: Comparing a sparse matrix with 0 using == is inefficient, try using != instead.\n"
     ]
    }
   ],
   "source": [
    "# get matrics\n",
    "train_df = train_df.groupby(['userId', 'artistId']).size().unstack(fill_value=0)\n",
    "val_df = val_df.groupby(['userId', 'artistId']).size().unstack(fill_value=0)\n",
    "\n",
    "print(train_df.shape, val_df.shape)\n",
    "\n",
    "# add missing columns to each\n",
    "for league in valid_leagues:\n",
    "    if league not in train_df:\n",
    "        train_df[league] = 0\n",
    "    if league not in val_df:\n",
    "        val_df[league] = 0\n",
    "\n",
    "# line up columns\n",
    "cols = sorted(list(train_df.columns.values))\n",
    "train_df = train_df.reindex(columns=cols)\n",
    "val_df = val_df.reindex(columns=cols)\n",
    "\n",
    "print(train_df.shape, val_df.shape)\n",
    "\n",
    "# turn df into sparse matrices\n",
    "train_mat = sp.csr_matrix(train_df.values)\n",
    "val_mat = sp.csr_matrix(val_df.values)\n",
    "\n",
    "# get masked test set\n",
    "new_val_mat = new_test(train_mat, val_mat)"
   ]
  },
  {
   "cell_type": "code",
   "execution_count": 54,
   "metadata": {},
   "outputs": [
    {
     "data": {
      "text/plain": [
       "<643x26307 sparse matrix of type '<class 'numpy.longlong'>'\n",
       "\twith 330431 stored elements in Compressed Sparse Row format>"
      ]
     },
     "execution_count": 54,
     "metadata": {},
     "output_type": "execute_result"
    }
   ],
   "source": [
    "train_mat"
   ]
  },
  {
   "cell_type": "code",
   "execution_count": 55,
   "metadata": {},
   "outputs": [
    {
     "data": {
      "text/plain": [
       "<643x26307 sparse matrix of type '<class 'numpy.longlong'>'\n",
       "\twith 222436 stored elements in Compressed Sparse Row format>"
      ]
     },
     "execution_count": 55,
     "metadata": {},
     "output_type": "execute_result"
    }
   ],
   "source": [
    "val_mat"
   ]
  },
  {
   "cell_type": "code",
   "execution_count": 56,
   "metadata": {},
   "outputs": [
    {
     "data": {
      "text/plain": [
       "<643x26307 sparse matrix of type '<class 'numpy.float64'>'\n",
       "\twith 101409 stored elements in Compressed Sparse Row format>"
      ]
     },
     "execution_count": 56,
     "metadata": {},
     "output_type": "execute_result"
    }
   ],
   "source": [
    "new_val_mat"
   ]
  },
  {
   "cell_type": "code",
   "execution_count": 57,
   "metadata": {},
   "outputs": [],
   "source": [
    "sp.save_npz('../../data/lastfm/processed/train_ex_val.npz', train_mat)\n",
    "sp.save_npz('../../data/lastfm/processed/val_unmasked.npz', val_mat)\n",
    "sp.save_npz('../../data/lastfm/processed/val_masked.npz', new_val_mat)"
   ]
  },
  {
   "cell_type": "code",
   "execution_count": 58,
   "metadata": {},
   "outputs": [],
   "source": [
    "items_train = list(train_df.columns.values)\n",
    "users_train = list(train_df.index.values)\n",
    "\n",
    "with open('../../data/lastfm/processed/train_users.txt', \"wb\") as fp:\n",
    "    pickle.dump(users_train, fp)\n",
    "with open('../../data/lastfm/processed/train_items.txt', \"wb\") as fp:\n",
    "    pickle.dump(items_train, fp)"
   ]
  },
  {
   "cell_type": "markdown",
   "metadata": {},
   "source": [
    "## iGC-MC PREPROCESSING"
   ]
  },
  {
   "cell_type": "code",
   "execution_count": 2,
   "metadata": {},
   "outputs": [],
   "source": [
    "# load train data\n",
    "data = {\n",
    "    'train': sp.load_npz('../../data/lastfm/processed/test/full_train_mat.npz')\n",
    "}"
   ]
  },
  {
   "cell_type": "code",
   "execution_count": 3,
   "metadata": {},
   "outputs": [
    {
     "data": {
      "text/plain": [
       "<817x26775 sparse matrix of type '<class 'numpy.int64'>'\n",
       "\twith 473713 stored elements in Compressed Sparse Row format>"
      ]
     },
     "execution_count": 3,
     "metadata": {},
     "output_type": "execute_result"
    }
   ],
   "source": [
    "data['train']"
   ]
  },
  {
   "cell_type": "code",
   "execution_count": 5,
   "metadata": {},
   "outputs": [],
   "source": [
    "# data['val']"
   ]
  },
  {
   "cell_type": "code",
   "execution_count": 6,
   "metadata": {},
   "outputs": [],
   "source": [
    "df = pd.DataFrame.sparse.from_spmatrix(data['train'])\n",
    "df['userId'] = df.index\n",
    "df = df.melt('userId', var_name='itemId', value_name='rating')\n",
    "df = df[df.rating != 0]\n",
    "# save \n",
    "path = '../../data/lastfm/processed/test/train_triplet_df.pkl'\n",
    "df.to_pickle(path)"
   ]
  },
  {
   "cell_type": "code",
   "execution_count": null,
   "metadata": {},
   "outputs": [],
   "source": []
  }
 ],
 "metadata": {
  "kernelspec": {
   "display_name": "Python 3",
   "language": "python",
   "name": "python3"
  },
  "language_info": {
   "codemirror_mode": {
    "name": "ipython",
    "version": 3
   },
   "file_extension": ".py",
   "mimetype": "text/x-python",
   "name": "python",
   "nbconvert_exporter": "python",
   "pygments_lexer": "ipython3",
   "version": "3.7.6"
  }
 },
 "nbformat": 4,
 "nbformat_minor": 4
}
